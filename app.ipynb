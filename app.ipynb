{
 "cells": [
  {
   "cell_type": "code",
   "execution_count": null,
   "metadata": {},
   "outputs": [
    {
     "name": "stdout",
     "output_type": "stream",
     "text": [
      " * Serving Flask app \"__main__\" (lazy loading)\n",
      " * Environment: production\n",
      "   WARNING: This is a development server. Do not use it in a production deployment.\n",
      "   Use a production WSGI server instead.\n",
      " * Debug mode: off\n"
     ]
    },
    {
     "name": "stderr",
     "output_type": "stream",
     "text": [
      " * Running on http://127.0.0.1:5000/ (Press CTRL+C to quit)\n"
     ]
    },
    {
     "name": "stdout",
     "output_type": "stream",
     "text": [
      " * Running on http://5ef9-41-44-14-56.ngrok.io\n",
      " * Traffic stats available on http://127.0.0.1:4040\n"
     ]
    }
   ],
   "source": [
    "from flask import Flask, render_template,request\n",
    "import re\n",
    "from nltk.stem import WordNetLemmatizer\n",
    "import pickle\n",
    "from flask_ngrok import run_with_ngrok\n",
    "\n",
    "\n",
    "wo = WordNetLemmatizer()\n",
    "\n",
    "app = Flask(__name__)\n",
    "\n",
    "#########################\n",
    "# run_with_ngrok(app)\n",
    "\n",
    "\n",
    "def preprocess(data):\n",
    "    #preprocess\n",
    "    a = re.sub('[^a-zA-Z]',' ',data)\n",
    "    a = a.lower()\n",
    "    a = a.split()\n",
    "    a = [wo.lemmatize(word) for word in a ]\n",
    "    a = ' '.join(a)\n",
    "    return a\n",
    "\n",
    "\n",
    "tfidf_vectorizer = pickle.load(open('vectorizer.pkl','rb'))\n",
    "model =  pickle.load(open('prediction.pkl','rb'))\n",
    "\n",
    "\n",
    "@app.route('/')\n",
    "def home():\n",
    "    return render_template('index.html')\n",
    "\n",
    "\n",
    "@app.route('/predict', methods= ['POST'])\n",
    "def predict():\n",
    "    msg = request.form['mood_pred']\n",
    "    a = preprocess(msg)\n",
    "\n",
    "#     example_counts = vectorizer.transform( [a] )\n",
    "#     prediction = mnb.predict( example_counts )\n",
    "#     prediction[0]\n",
    "    print(tfidf_vectorizer.transform([a]))\n",
    "\n",
    "    result = model.predict(tfidf_vectorizer.transform([a]))[0]\n",
    "    if result == 1 :\n",
    "        T = \"\\\"Depression\\\" kindly be in touch with us or check specialist\"\n",
    "    else :\n",
    "        T = \"\\\"Not Depression\\\" Keep on That we hope best for you\"\n",
    "    return render_template('index.html',pred = \"You are {}\".format(T))\n",
    "\n",
    "\n",
    "#############################\n",
    "# if __name__ == \"__main__\":\n",
    "#   app.run()\n",
    "\n",
    "# app.run(host='0.0.0.0', port=5000)\n",
    "# app.run(debug=False)"
   ]
  },
  {
   "cell_type": "code",
   "execution_count": 11,
   "metadata": {},
   "outputs": [],
   "source": [
    "# !python -m flask run\n",
    "# request.environ['REMOTE_ADDR']\n"
   ]
  },
  {
   "cell_type": "code",
   "execution_count": 37,
   "metadata": {},
   "outputs": [],
   "source": [
    "# from flask import request\n",
    "# # app.preprocess_request()\n",
    "# # def add():\n",
    "# #    with app.request_context(environ):\n",
    "# #       node = Node('test','test','this is a test',1)\n",
    "# #       db_session.add(node)\n",
    "# #       db_session.commit()\n",
    "# #       return 'is ok'\n",
    "\n",
    "# print(request.remote_addr)"
   ]
  },
  {
   "cell_type": "code",
   "execution_count": null,
   "metadata": {},
   "outputs": [
    {
     "name": "stdout",
     "output_type": "stream",
     "text": [
      " * Serving Flask app \"__main__\" (lazy loading)\n",
      " * Environment: production\n",
      "   WARNING: This is a development server. Do not use it in a production deployment.\n",
      "   Use a production WSGI server instead.\n",
      " * Debug mode: off\n"
     ]
    },
    {
     "name": "stderr",
     "output_type": "stream",
     "text": [
      " * Running on http://127.0.0.1:5000/ (Press CTRL+C to quit)\n"
     ]
    },
    {
     "name": "stdout",
     "output_type": "stream",
     "text": [
      " * Running on http://a400-41-44-14-56.ngrok.io\n",
      " * Traffic stats available on http://127.0.0.1:4040\n"
     ]
    }
   ],
   "source": [
    "# pip install flask-ngrok\n",
    "from flask import Flask\n",
    "  \n",
    "app = Flask(__name__)\n",
    "run_with_ngrok(app)\n",
    "  \n",
    "@app.route(\"/\")\n",
    "def hello():\n",
    "    return \"Hello Geeks!! from Google Colab\"\n",
    "  \n",
    "if __name__ == \"__main__\":\n",
    "  app.run()\n",
    "\n"
   ]
  },
  {
   "cell_type": "code",
   "execution_count": 36,
   "metadata": {},
   "outputs": [],
   "source": [
    "# from flask import Flask, request\n",
    "\n",
    "# app = Flask(__name__)\n",
    "\n",
    "# @app.route('/')\n",
    "# def hello():\n",
    "#     print('during view')\n",
    "#     return 'Hello, World!'\n",
    "\n",
    "# @app.teardown_request\n",
    "# def show_teardown(exception):\n",
    "#     print('after with block')\n",
    "\n",
    "# with app.test_request_context():\n",
    "#     print('during with block')\n",
    "\n",
    "# # teardown functions are called after the context with block exits\n",
    "\n",
    "# with app.test_client() as client:\n",
    "#     client.get('/')\n",
    "#     print('ssssssssss')\n",
    "#     print(request.remote_addr)\n",
    "\n",
    "#     # the contexts are not popped even though the request ended\n",
    "#     print(request.path)\n",
    "\n",
    "# # the contexts are popped and teardown functions are called after\n",
    "# # the client with block exits"
   ]
  },
  {
   "cell_type": "code",
   "execution_count": 47,
   "metadata": {},
   "outputs": [
    {
     "ename": "SyntaxError",
     "evalue": "invalid syntax (<ipython-input-47-028c84ed9032>, line 1)",
     "output_type": "error",
     "traceback": [
      "\u001b[1;36m  File \u001b[1;32m\"<ipython-input-47-028c84ed9032>\"\u001b[1;36m, line \u001b[1;32m1\u001b[0m\n\u001b[1;33m    ./ngrok authtoken 23AIodUHEB8nDfNhz3mpggyO7fO_xdgBSzbTKkQFQyJfR3us\u001b[0m\n\u001b[1;37m    ^\u001b[0m\n\u001b[1;31mSyntaxError\u001b[0m\u001b[1;31m:\u001b[0m invalid syntax\n"
     ]
    }
   ],
   "source": [
    "./ngrok authtoken 23AIodUHEB8nDfNhz3mpggyO7fO_xdgBSzbTKkQFQyJfR3us\n"
   ]
  },
  {
   "cell_type": "code",
   "execution_count": null,
   "metadata": {},
   "outputs": [],
   "source": []
  }
 ],
 "metadata": {
  "kernelspec": {
   "display_name": "Python 3",
   "language": "python",
   "name": "python3"
  },
  "language_info": {
   "codemirror_mode": {
    "name": "ipython",
    "version": 3
   },
   "file_extension": ".py",
   "mimetype": "text/x-python",
   "name": "python",
   "nbconvert_exporter": "python",
   "pygments_lexer": "ipython3",
   "version": "3.8.5"
  }
 },
 "nbformat": 4,
 "nbformat_minor": 4
}
