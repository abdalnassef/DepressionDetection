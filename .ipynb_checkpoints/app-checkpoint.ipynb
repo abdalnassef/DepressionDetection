{
 "cells": [
  {
   "cell_type": "code",
   "execution_count": null,
   "metadata": {},
   "outputs": [
    {
     "name": "stdout",
     "output_type": "stream",
     "text": [
      " * Serving Flask app \"__main__\" (lazy loading)\n",
      " * Environment: production\n",
      "   WARNING: This is a development server. Do not use it in a production deployment.\n",
      "   Use a production WSGI server instead.\n",
      " * Debug mode: off\n"
     ]
    },
    {
     "name": "stderr",
     "output_type": "stream",
     "text": [
      " * Running on http://127.0.0.1:5000/ (Press CTRL+C to quit)\n",
      "127.0.0.1 - - [02/Jan/2022 16:19:25] \"\u001b[37mGET / HTTP/1.1\u001b[0m\" 200 -\n",
      "127.0.0.1 - - [02/Jan/2022 16:19:25] \"\u001b[33mGET /css/bootstrap.min.css HTTP/1.1\u001b[0m\" 404 -\n",
      "127.0.0.1 - - [02/Jan/2022 16:19:25] \"\u001b[33mGET /css/owl.carousel.min.css HTTP/1.1\u001b[0m\" 404 -\n",
      "127.0.0.1 - - [02/Jan/2022 16:19:25] \"\u001b[33mGET /css/font-awesome.min.css HTTP/1.1\u001b[0m\" 404 -\n",
      "127.0.0.1 - - [02/Jan/2022 16:19:25] \"\u001b[33mGET /css/reset.css HTTP/1.1\u001b[0m\" 404 -\n",
      "127.0.0.1 - - [02/Jan/2022 16:19:25] \"\u001b[33mGET /css/style.css HTTP/1.1\u001b[0m\" 404 -\n",
      "127.0.0.1 - - [02/Jan/2022 16:19:25] \"\u001b[33mGET /css/animate.css HTTP/1.1\u001b[0m\" 404 -\n",
      "127.0.0.1 - - [02/Jan/2022 16:19:25] \"\u001b[33mGET /css/responsive.css HTTP/1.1\u001b[0m\" 404 -\n",
      "127.0.0.1 - - [02/Jan/2022 16:19:25] \"\u001b[33mGET /js/vendor/modernizr-2.8.3.min.js HTTP/1.1\u001b[0m\" 404 -\n",
      "127.0.0.1 - - [02/Jan/2022 16:19:25] \"\u001b[33mGET /js/vendor/jquery-1.12.0.min.js HTTP/1.1\u001b[0m\" 404 -\n",
      "127.0.0.1 - - [02/Jan/2022 16:19:25] \"\u001b[33mGET /js/jquery-easing/jquery.easing.min.js HTTP/1.1\u001b[0m\" 404 -\n",
      "127.0.0.1 - - [02/Jan/2022 16:19:25] \"\u001b[33mGET /js/bootstrap.min.js HTTP/1.1\u001b[0m\" 404 -\n",
      "127.0.0.1 - - [02/Jan/2022 16:19:25] \"\u001b[33mGET /js/parallax.min.js HTTP/1.1\u001b[0m\" 404 -\n",
      "127.0.0.1 - - [02/Jan/2022 16:19:25] \"\u001b[33mGET /js/ajax-mail.js HTTP/1.1\u001b[0m\" 404 -\n",
      "127.0.0.1 - - [02/Jan/2022 16:19:25] \"\u001b[33mGET /js/owl.carousel.min.js HTTP/1.1\u001b[0m\" 404 -\n",
      "127.0.0.1 - - [02/Jan/2022 16:19:25] \"\u001b[33mGET /js/jquery.nicescroll.min.js HTTP/1.1\u001b[0m\" 404 -\n",
      "127.0.0.1 - - [02/Jan/2022 16:19:25] \"\u001b[33mGET /js/main.js HTTP/1.1\u001b[0m\" 404 -\n",
      "127.0.0.1 - - [02/Jan/2022 16:19:25] \"\u001b[33mGET /js/vendor/jquery-1.12.0.min.js HTTP/1.1\u001b[0m\" 404 -\n",
      "127.0.0.1 - - [02/Jan/2022 16:19:25] \"\u001b[33mGET /js/jquery-easing/jquery.easing.min.js HTTP/1.1\u001b[0m\" 404 -\n",
      "127.0.0.1 - - [02/Jan/2022 16:19:25] \"\u001b[33mGET /js/bootstrap.min.js HTTP/1.1\u001b[0m\" 404 -\n",
      "127.0.0.1 - - [02/Jan/2022 16:19:25] \"\u001b[33mGET /js/parallax.min.js HTTP/1.1\u001b[0m\" 404 -\n",
      "127.0.0.1 - - [02/Jan/2022 16:19:25] \"\u001b[33mGET /js/ajax-mail.js HTTP/1.1\u001b[0m\" 404 -\n",
      "127.0.0.1 - - [02/Jan/2022 16:19:25] \"\u001b[33mGET /js/owl.carousel.min.js HTTP/1.1\u001b[0m\" 404 -\n",
      "127.0.0.1 - - [02/Jan/2022 16:19:25] \"\u001b[33mGET /js/jquery.nicescroll.min.js HTTP/1.1\u001b[0m\" 404 -\n",
      "127.0.0.1 - - [02/Jan/2022 16:19:25] \"\u001b[33mGET /js/main.js HTTP/1.1\u001b[0m\" 404 -\n",
      "127.0.0.1 - - [02/Jan/2022 16:19:32] \"\u001b[37mPOST /predict HTTP/1.1\u001b[0m\" 200 -\n",
      "127.0.0.1 - - [02/Jan/2022 16:19:32] \"\u001b[33mGET /css/bootstrap.min.css HTTP/1.1\u001b[0m\" 404 -\n",
      "127.0.0.1 - - [02/Jan/2022 16:19:32] \"\u001b[33mGET /css/owl.carousel.min.css HTTP/1.1\u001b[0m\" 404 -\n",
      "127.0.0.1 - - [02/Jan/2022 16:19:32] \"\u001b[33mGET /css/font-awesome.min.css HTTP/1.1\u001b[0m\" 404 -\n",
      "127.0.0.1 - - [02/Jan/2022 16:19:32] \"\u001b[33mGET /css/reset.css HTTP/1.1\u001b[0m\" 404 -\n",
      "127.0.0.1 - - [02/Jan/2022 16:19:32] \"\u001b[33mGET /css/style.css HTTP/1.1\u001b[0m\" 404 -\n",
      "127.0.0.1 - - [02/Jan/2022 16:19:32] \"\u001b[33mGET /css/animate.css HTTP/1.1\u001b[0m\" 404 -\n",
      "127.0.0.1 - - [02/Jan/2022 16:19:32] \"\u001b[33mGET /css/responsive.css HTTP/1.1\u001b[0m\" 404 -\n",
      "127.0.0.1 - - [02/Jan/2022 16:19:32] \"\u001b[33mGET /js/vendor/modernizr-2.8.3.min.js HTTP/1.1\u001b[0m\" 404 -\n",
      "127.0.0.1 - - [02/Jan/2022 16:19:32] \"\u001b[33mGET /js/vendor/jquery-1.12.0.min.js HTTP/1.1\u001b[0m\" 404 -\n",
      "127.0.0.1 - - [02/Jan/2022 16:19:32] \"\u001b[33mGET /js/jquery-easing/jquery.easing.min.js HTTP/1.1\u001b[0m\" 404 -\n",
      "127.0.0.1 - - [02/Jan/2022 16:19:32] \"\u001b[33mGET /js/bootstrap.min.js HTTP/1.1\u001b[0m\" 404 -\n",
      "127.0.0.1 - - [02/Jan/2022 16:19:32] \"\u001b[33mGET /js/parallax.min.js HTTP/1.1\u001b[0m\" 404 -\n",
      "127.0.0.1 - - [02/Jan/2022 16:19:32] \"\u001b[33mGET /js/ajax-mail.js HTTP/1.1\u001b[0m\" 404 -\n",
      "127.0.0.1 - - [02/Jan/2022 16:19:32] \"\u001b[33mGET /js/owl.carousel.min.js HTTP/1.1\u001b[0m\" 404 -\n",
      "127.0.0.1 - - [02/Jan/2022 16:19:32] \"\u001b[33mGET /js/jquery.nicescroll.min.js HTTP/1.1\u001b[0m\" 404 -\n",
      "127.0.0.1 - - [02/Jan/2022 16:19:32] \"\u001b[33mGET /js/main.js HTTP/1.1\u001b[0m\" 404 -\n",
      "127.0.0.1 - - [02/Jan/2022 16:19:32] \"\u001b[33mGET /js/vendor/jquery-1.12.0.min.js HTTP/1.1\u001b[0m\" 404 -\n"
     ]
    },
    {
     "name": "stdout",
     "output_type": "stream",
     "text": [
      "  (0, 3818)\t1.0\n"
     ]
    },
    {
     "name": "stderr",
     "output_type": "stream",
     "text": [
      "127.0.0.1 - - [02/Jan/2022 16:19:32] \"\u001b[33mGET /js/jquery-easing/jquery.easing.min.js HTTP/1.1\u001b[0m\" 404 -\n",
      "127.0.0.1 - - [02/Jan/2022 16:19:32] \"\u001b[33mGET /js/bootstrap.min.js HTTP/1.1\u001b[0m\" 404 -\n",
      "127.0.0.1 - - [02/Jan/2022 16:19:32] \"\u001b[33mGET /js/parallax.min.js HTTP/1.1\u001b[0m\" 404 -\n",
      "127.0.0.1 - - [02/Jan/2022 16:19:32] \"\u001b[33mGET /js/ajax-mail.js HTTP/1.1\u001b[0m\" 404 -\n",
      "127.0.0.1 - - [02/Jan/2022 16:19:32] \"\u001b[33mGET /js/owl.carousel.min.js HTTP/1.1\u001b[0m\" 404 -\n",
      "127.0.0.1 - - [02/Jan/2022 16:19:32] \"\u001b[33mGET /js/jquery.nicescroll.min.js HTTP/1.1\u001b[0m\" 404 -\n",
      "127.0.0.1 - - [02/Jan/2022 16:19:32] \"\u001b[33mGET /js/main.js HTTP/1.1\u001b[0m\" 404 -\n"
     ]
    }
   ],
   "source": [
    "from flask import Flask, render_template,request\n",
    "import re\n",
    "from nltk.stem import WordNetLemmatizer\n",
    "import pickle\n",
    "\n",
    "wo = WordNetLemmatizer()\n",
    "\n",
    "app = Flask(__name__)\n",
    "\n",
    "def preprocess(data):\n",
    "    #preprocess\n",
    "    a = re.sub('[^a-zA-Z]',' ',data)\n",
    "    a = a.lower()\n",
    "    a = a.split()\n",
    "    a = [wo.lemmatize(word) for word in a ]\n",
    "    a = ' '.join(a)\n",
    "    return a\n",
    "\n",
    "\n",
    "tfidf_vectorizer = pickle.load(open('vectorizer.pkl','rb'))\n",
    "model =  pickle.load(open('prediction.pkl','rb'))\n",
    "\n",
    "@app.route('/')\n",
    "def home():\n",
    "    return render_template('index.html')\n",
    "\n",
    "\n",
    "@app.route('/predict', methods= ['POST'])\n",
    "def predict():\n",
    "    msg = request.form['mood_pred']\n",
    "    a = preprocess(msg)\n",
    "\n",
    "#     example_counts = vectorizer.transform( [a] )\n",
    "#     prediction = mnb.predict( example_counts )\n",
    "#     prediction[0]\n",
    "    print(tfidf_vectorizer.transform([a]))\n",
    "\n",
    "    result = model.predict(tfidf_vectorizer.transform([a]))[0]\n",
    "    if result == 1 :\n",
    "        T = \"\\\"Depression\\\" kindly be in touch with us or check specialist\"\n",
    "    else :\n",
    "        T = \"\\\"Not Depression\\\" Keep on That we hope best for you\"\n",
    "    return render_template('index.html',pred = \"You are {}\".format(T))\n",
    "\n",
    "\n",
    "\n",
    "\n",
    "app.run(debug=False)"
   ]
  },
  {
   "cell_type": "code",
   "execution_count": 15,
   "metadata": {},
   "outputs": [],
   "source": [
    "# !python -m flask run\n"
   ]
  },
  {
   "cell_type": "code",
   "execution_count": null,
   "metadata": {},
   "outputs": [],
   "source": []
  }
 ],
 "metadata": {
  "kernelspec": {
   "display_name": "Python 3",
   "language": "python",
   "name": "python3"
  },
  "language_info": {
   "codemirror_mode": {
    "name": "ipython",
    "version": 3
   },
   "file_extension": ".py",
   "mimetype": "text/x-python",
   "name": "python",
   "nbconvert_exporter": "python",
   "pygments_lexer": "ipython3",
   "version": "3.8.5"
  }
 },
 "nbformat": 4,
 "nbformat_minor": 4
}
